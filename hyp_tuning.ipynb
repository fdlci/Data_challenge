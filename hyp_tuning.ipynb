{
 "metadata": {
  "language_info": {
   "codemirror_mode": {
    "name": "ipython",
    "version": 3
   },
   "file_extension": ".py",
   "mimetype": "text/x-python",
   "name": "python",
   "nbconvert_exporter": "python",
   "pygments_lexer": "ipython3",
   "version": "3.8.0-final"
  },
  "orig_nbformat": 2,
  "kernelspec": {
   "name": "python3",
   "display_name": "Python 3.8.0 64-bit",
   "metadata": {
    "interpreter": {
     "hash": "ecbb290622efe6a108e88b8a5dccb3aa582d66a3ed03b3b3ca754b0c02090994"
    }
   }
  }
 },
 "nbformat": 4,
 "nbformat_minor": 2,
 "cells": [
  {
   "cell_type": "code",
   "execution_count": 1,
   "metadata": {},
   "outputs": [],
   "source": [
    "# Essentials\n",
    "import time\n",
    "import copy\n",
    "from collections import OrderedDict\n",
    "import random\n",
    "import os\n",
    "from tifffile import TiffFile\n",
    "from PIL import Image, ImageOps\n",
    "from pathlib import Path\n",
    "from tqdm.notebook import tqdm\n",
    "# Data\n",
    "import numpy as np\n",
    "import pandas as pd\n",
    "# Plot\n",
    "import matplotlib.pyplot as plt\n",
    "# Torch\n",
    "import torch\n",
    "import torch.nn as nn\n",
    "from torch.utils.data import Dataset, Subset\n",
    "import torch.optim as optim\n",
    "from torch.optim import lr_scheduler\n",
    "from torch.utils.data import DataLoader\n",
    "from torch.autograd import Variable\n",
    "import torch.nn.functional as F\n",
    "# Torchvision\n",
    "from torchvision import datasets, transforms\n",
    "import torchvision.transforms.functional as TF\n",
    "# segmentation_models_pytorch\n",
    "import segmentation_models_pytorch as smp\n",
    "# Albumentations\n",
    "import albumentations as A\n",
    "from albumentations.pytorch import ToTensorV2\n",
    "# Optuna\n",
    "import optuna\n",
    "# Local \n",
    "from unet import UNet\n",
    "from LCD import LandCoverData\n",
    "from dataset import *\n",
    "from train import *\n",
    "from utils import *\n",
    "from metrics import *\n",
    "from losses import *\n",
    "LCD = LandCoverData()"
   ]
  },
  {
   "cell_type": "code",
   "execution_count": 2,
   "metadata": {},
   "outputs": [],
   "source": [
    "def seed_everything(seed=42):\n",
    "    random.seed(seed)\n",
    "    os.environ['PYTHONHASHSEED'] = str(seed)\n",
    "    np.random.seed(seed)\n",
    "    torch.manual_seed(seed)\n",
    "    torch.backends.cudnn.deterministic = True\n",
    "    torch.backends.cudnn.benchmark = False"
   ]
  },
  {
   "cell_type": "code",
   "execution_count": 3,
   "metadata": {},
   "outputs": [],
   "source": [
    "train_transform = A.Compose([\n",
    "    A.ToFloat(max_value=65535.0),\n",
    "    A.VerticalFlip(p=0.5),\n",
    "    A.HorizontalFlip(p=0.5),\n",
    "    A.RandomRotate90(p=0.5),\n",
    "    A.Rotate(limit=5, p=0.5),\n",
    "    A.Blur(p=0.25),\n",
    "    A.ElasticTransform(p=0.5, alpha=120, sigma=120 * 0.05, alpha_affine=120 * 0.03),\n",
    "    A.FromFloat(max_value=65535.0),\n",
    "    A.Normalize(mean=(0.5, 0.5, 0.5, 0.5), std=(1, 1, 1, 1), max_pixel_value=65535),\n",
    "    ToTensorV2()\n",
    "])\n",
    "\n",
    "test_transform = A.Compose([\n",
    "    A.Normalize(mean=(0.5, 0.5, 0.5, 0.5), std=(1, 1, 1, 1), max_pixel_value=65535),\n",
    "    ToTensorV2()\n",
    "])"
   ]
  },
  {
   "cell_type": "code",
   "execution_count": 4,
   "metadata": {},
   "outputs": [],
   "source": [
    "def def_dataset(train_dir):\n",
    "\n",
    "    train_idx, val_idx = train_val_dataset(train_dir, val_split=0.2)\n",
    "    train_set = ImageSegementationDataset(train_dir, in_channels=IN_CHANNELS, path_index=train_idx, mode='train', transforms=train_transform)\n",
    "    val_set = ImageSegementationDataset(train_dir, in_channels=IN_CHANNELS, path_index=val_idx, mode='valid', transforms=test_transform)\n",
    "\n",
    "    loader_train = DataLoader(train_set, batch_size=BATCH_SIZE, shuffle=True, num_workers=4)\n",
    "    loader_valid = DataLoader(val_set, batch_size=BATCH_SIZE, shuffle=True, num_workers=4)\n",
    "\n",
    "    data_sizes = {\"train\": len(loader_train), \"valid\": len(loader_valid)}\n",
    "\n",
    "    return loader_train, loader_valid, data_sizes"
   ]
  },
  {
   "cell_type": "code",
   "execution_count": 5,
   "metadata": {},
   "outputs": [],
   "source": [
    "def main(train_dir, segment, IN_CHANNELS, weights, n_trials, time_out):\n",
    "\n",
    "    device = torch.device(\"cuda:0\" if torch.cuda.is_available() else \"cpu\")\n",
    "    print(\"Device: \", device)\n",
    "\n",
    "    loader_train, loader_valid, data_sizes = def_dataset(train_dir)\n",
    "\n",
    "    def objective(trial):\n",
    "\n",
    "        if segment == 'UNET':\n",
    "            model = smp.Unet(encoder_name=trial.suggest_categorical('MODEL', ['resnet18', 'resnet34', 'timm-efficientnet-b3']),in_channels=IN_CHANNELS, classes=10, activation=None)\n",
    "        elif segment == 'LINKNET':\n",
    "            model = smp.Linknet(encoder_name=trial.suggest_categorical('MODEL', ['resnet18', 'resnet34', 'timm-efficientnet-b3']),in_channels=IN_CHANNELS, classes=10, activation=None)\n",
    "        \n",
    "        optimizer_ft = optim.Adam(model.parameters(), trial.suggest_float(\"lr\", 1e-7, 1e-2, log=True))\n",
    "\n",
    "        scheduler = lr_scheduler.StepLR(optimizer_ft, step_size=7, gamma=0.5)\n",
    "\n",
    "        criterion = CombinedLoss(weights, trial.suggest_categorical('criterion', [True, False]))\n",
    "        loaders = {\n",
    "            \"train\": loader_train,\n",
    "            \"val\": loader_valid\n",
    "        }\n",
    "\n",
    "        trainer = Trainer(model, loaders, optimizer_ft, criterion, scheduler, device)\n",
    "        trainer.reset()\n",
    "\n",
    "        trainer.run(NB_EPOCHS, reduce_on_plateau=True)\n",
    "        return trainer.best_kl\n",
    "\n",
    "    study = optuna.create_study()\n",
    "    study.optimize(objective, n_trials=n_trials, timeout=time_out)"
   ]
  },
  {
   "cell_type": "code",
   "execution_count": 6,
   "metadata": {},
   "outputs": [
    {
     "output_type": "stream",
     "name": "stderr",
     "text": [
      "\u001b[32m[I 2021-03-11 18:40:03,725]\u001b[0m A new study created in memory with name: no-name-72404b0b-c035-4360-a8a3-33b9fd9f8fbf\u001b[0m\n",
      "Device:  cpu\n"
     ]
    },
    {
     "output_type": "display_data",
     "data": {
      "text/plain": "HBox(children=(FloatProgress(value=0.0, max=2.0), HTML(value='')))",
      "application/vnd.jupyter.widget-view+json": {
       "version_major": 2,
       "version_minor": 0,
       "model_id": "3442427121b4438db3b1e1f17a9fa069"
      }
     },
     "metadata": {}
    },
    {
     "output_type": "stream",
     "name": "stdout",
     "text": [
      "\n"
     ]
    },
    {
     "output_type": "display_data",
     "data": {
      "text/plain": "HBox(children=(FloatProgress(value=0.0, max=1.0), HTML(value='')))",
      "application/vnd.jupyter.widget-view+json": {
       "version_major": 2,
       "version_minor": 0,
       "model_id": "7f81d55da84f4b12996ec5245f41a08a"
      }
     },
     "metadata": {}
    },
    {
     "output_type": "stream",
     "name": "stdout",
     "text": [
      "\n",
      "Epoch 1/2 Learning rate: 0.0035902081756768785\n",
      "Epoch 1/2 Training Loss: 3.04816472530365 Training BCE Loss 2.500029683113098 Training Dice Loss 0.5481350421905518 Training IoU: 0.030610593158928674 Training KL: 1.835495047944056\n",
      "Epoch 1/2 Validation Loss: 2.8129968643188477 Validation BCE Loss 2.2629477977752686 Validation Dice Loss 0.5500491857528687 Validation IoU: 0.03477399160579669 Validation KL: 4.166803218552554\n",
      "C:\\Users\\inesp\\AppData\\Local\\Programs\\Python\\Python38\\lib\\site-packages\\torch\\optim\\lr_scheduler.py:156: UserWarning: The epoch parameter in `scheduler.step()` was not necessary and is being deprecated where possible. Please use `scheduler.step()` to step the scheduler. During the deprecation, if epoch is different from None, the closed form is used instead of the new chainable form, where available. Please open an issue if you are unable to replicate your use case: https://github.com/pytorch/pytorch/issues/new/choose.\n",
      "  warnings.warn(EPOCH_DEPRECATION_WARNING, UserWarning)\n"
     ]
    },
    {
     "output_type": "display_data",
     "data": {
      "text/plain": "HBox(children=(FloatProgress(value=0.0, max=2.0), HTML(value='')))",
      "application/vnd.jupyter.widget-view+json": {
       "version_major": 2,
       "version_minor": 0,
       "model_id": "910c660de2b044699dd0d7356afa31ee"
      }
     },
     "metadata": {}
    },
    {
     "output_type": "stream",
     "name": "stdout",
     "text": [
      "\n"
     ]
    },
    {
     "output_type": "display_data",
     "data": {
      "text/plain": "HBox(children=(FloatProgress(value=0.0, max=1.0), HTML(value='')))",
      "application/vnd.jupyter.widget-view+json": {
       "version_major": 2,
       "version_minor": 0,
       "model_id": "80659b40fd5c4e308c3934152ef7561b"
      }
     },
     "metadata": {}
    },
    {
     "output_type": "stream",
     "name": "stderr",
     "text": [
      "\u001b[32m[I 2021-03-11 18:40:23,880]\u001b[0m Trial 0 finished with value: 1.5825499815953166 and parameters: {'MODEL': 'resnet18', 'lr': 0.0035902081756768785, 'criterion': False}. Best is trial 0 with value: 1.5825499815953166.\u001b[0m\n",
      "\n",
      "Epoch 2/2 Learning rate: 0.0035902081756768785\n",
      "Epoch 2/2 Training Loss: 2.599603772163391 Training BCE Loss 2.068421423435211 Training Dice Loss 0.5311824083328247 Training IoU: 0.0800975416195942 Training KL: 1.4910419713695644\n",
      "Epoch 2/2 Validation Loss: 2.6555721759796143 Validation BCE Loss 2.110816717147827 Validation Dice Loss 0.5447554588317871 Validation IoU: 0.05830240983576079 Validation KL: 1.5825499815953166\n"
     ]
    },
    {
     "output_type": "display_data",
     "data": {
      "text/plain": "HBox(children=(FloatProgress(value=0.0, max=2.0), HTML(value='')))",
      "application/vnd.jupyter.widget-view+json": {
       "version_major": 2,
       "version_minor": 0,
       "model_id": "86d2d94c0af641f98537c9f0fdd3b65b"
      }
     },
     "metadata": {}
    },
    {
     "output_type": "stream",
     "name": "stdout",
     "text": [
      "\n"
     ]
    },
    {
     "output_type": "display_data",
     "data": {
      "text/plain": "HBox(children=(FloatProgress(value=0.0, max=1.0), HTML(value='')))",
      "application/vnd.jupyter.widget-view+json": {
       "version_major": 2,
       "version_minor": 0,
       "model_id": "2a2e957c311349829f790fa0e1317a27"
      }
     },
     "metadata": {}
    },
    {
     "output_type": "stream",
     "name": "stdout",
     "text": [
      "\nEpoch 1/2 Learning rate: 0.0002211849893707243\nEpoch 1/2 Training Loss: 2.671537399291992 Training BCE Loss 2.137781262397766 Training Dice Loss 0.5337560176849365 Training IoU: 0.07578000536255333 Training KL: 0.8868688836154096\nEpoch 1/2 Validation Loss: 2.79510235786438 Validation BCE Loss 2.2470345497131348 Validation Dice Loss 0.5480678081512451 Validation IoU: 0.03855032796934211 Validation KL: 9.693159445843378\n"
     ]
    },
    {
     "output_type": "display_data",
     "data": {
      "text/plain": "HBox(children=(FloatProgress(value=0.0, max=2.0), HTML(value='')))",
      "application/vnd.jupyter.widget-view+json": {
       "version_major": 2,
       "version_minor": 0,
       "model_id": "e8bb8f0b96434ca58207ed1e9c350644"
      }
     },
     "metadata": {}
    },
    {
     "output_type": "stream",
     "name": "stdout",
     "text": [
      "\n"
     ]
    },
    {
     "output_type": "display_data",
     "data": {
      "text/plain": "HBox(children=(FloatProgress(value=0.0, max=1.0), HTML(value='')))",
      "application/vnd.jupyter.widget-view+json": {
       "version_major": 2,
       "version_minor": 0,
       "model_id": "a1a7074193474b7f965a95b4d8d55fb0"
      }
     },
     "metadata": {}
    },
    {
     "output_type": "stream",
     "name": "stderr",
     "text": [
      "\u001b[32m[I 2021-03-11 18:40:48,970]\u001b[0m Trial 1 finished with value: 9.693159445843378 and parameters: {'MODEL': 'resnet34', 'lr': 0.0004423699787414486, 'criterion': True}. Best is trial 0 with value: 1.5825499815953166.\u001b[0m\n",
      "\n",
      "Epoch 2/2 Learning rate: 0.0002211849893707243\n",
      "Epoch 2/2 Training Loss: 2.5998120307922363 Training BCE Loss 2.069864511489868 Training Dice Loss 0.5299475193023682 Training IoU: 0.08257642964546434 Training KL: 0.9197489576194444\n",
      "Epoch 2/2 Validation Loss: 2.7729806900024414 Validation BCE Loss 2.226407289505005 Validation Dice Loss 0.546573281288147 Validation IoU: 0.0308849096574715 Validation KL: 10.709428453236939\n"
     ]
    }
   ],
   "source": [
    "seed = 2021\n",
    "seed_everything(seed)\n",
    "\n",
    "train_dir='dataset/train'\n",
    "SEGMENT = 'LINKNET'\n",
    "NB_EPOCHS = 2\n",
    "BATCH_SIZE = 12\n",
    "IN_CHANNELS = 4\n",
    "N_TRIALS = 2\n",
    "TIME_OUT = 60 # impose nombre de secondes avant qu'il s'arrête\n",
    "weights = torch.tensor([[0.0000e+00, 0.0000e+00, 2.5257e+00, 3.7227e-01, 5.4894e-01, 1.5724e+00,\n",
    "        4.5365e-01, 1.6032e+01, 1.4391e+05, 5.1694e+00]])\n",
    "main(train_dir, SEGMENT, IN_CHANNELS, weights, N_TRIALS, TIME_OUT)"
   ]
  },
  {
   "cell_type": "code",
   "execution_count": null,
   "metadata": {},
   "outputs": [],
   "source": []
  }
 ]
}